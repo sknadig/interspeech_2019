{
 "cells": [
  {
   "cell_type": "code",
   "execution_count": 3,
   "metadata": {},
   "outputs": [],
   "source": [
    "import numpy as np"
   ]
  },
  {
   "cell_type": "code",
   "execution_count": 55,
   "metadata": {},
   "outputs": [],
   "source": [
    "mtlalpha = [0.3, 0.5, 0.7]\n",
    "etype = ['blstmp', 'vggblstmp', 'bgrup', 'vggbgrup']\n",
    "elayers = [1,3,5]\n",
    "atype = ['dot', 'add', 'location', 'coverage','coverage_location', 'location2d', 'location_recurrent','multi_head_dot', 'multi_head_add', 'multi_head_loc','multi_head_multi_res_loc']\n",
    "dtype = ['lstm', 'gru']"
   ]
  },
  {
   "cell_type": "code",
   "execution_count": 56,
   "metadata": {},
   "outputs": [],
   "source": [
    "total_experiments = len(mtlalpha) * len(etype) * len(elayers) * len(atype) * len(dtype)"
   ]
  },
  {
   "cell_type": "code",
   "execution_count": 57,
   "metadata": {},
   "outputs": [
    {
     "data": {
      "text/plain": [
       "792"
      ]
     },
     "execution_count": 57,
     "metadata": {},
     "output_type": "execute_result"
    }
   ],
   "source": [
    "total_experiments"
   ]
  },
  {
   "cell_type": "code",
   "execution_count": 58,
   "metadata": {},
   "outputs": [
    {
     "data": {
      "text/plain": [
       "8.25"
      ]
     },
     "execution_count": 58,
     "metadata": {},
     "output_type": "execute_result"
    }
   ],
   "source": [
    "(total_experiments*15/60)/24"
   ]
  },
  {
   "cell_type": "code",
   "execution_count": 60,
   "metadata": {},
   "outputs": [],
   "source": [
    "for i in mtlalpha:\n",
    "    experiments = []\n",
    "    for j in etype:\n",
    "        for k in elayers:\n",
    "            for l in atype:\n",
    "                for m in dtype:\n",
    "#                     print(i,j,k,l,m)\n",
    "                    c = \"./run.sh --backend pytorch --ctc_type builtin --ctc_weight 0.3 --mtlalpha {0} --etype {1} --elayers {2} --atype {3} --dtype {4} --transtype phn --stage 3 --ngpu 2\".format(str(i), str(j), str(k), str(l), str(m))\n",
    "                    experiments.append(c)\n",
    "    with open(\"experiments_mtl_{0}.sh\".format(str(i)), \"w\") as file:\n",
    "        for line in experiments:\n",
    "            file.write(line + \"\\n\")"
   ]
  }
 ],
 "metadata": {
  "kernelspec": {
   "display_name": "pytorch1.0.1",
   "language": "python",
   "name": "pytorch1.0.1"
  },
  "language_info": {
   "codemirror_mode": {
    "name": "ipython",
    "version": 3
   },
   "file_extension": ".py",
   "mimetype": "text/x-python",
   "name": "python",
   "nbconvert_exporter": "python",
   "pygments_lexer": "ipython3",
   "version": "3.6.4"
  }
 },
 "nbformat": 4,
 "nbformat_minor": 2
}
